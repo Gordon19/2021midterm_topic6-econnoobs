{
 "cells": [
  {
   "cell_type": "markdown",
   "metadata": {},
   "source": [
    "# Midterm Assignment, topic 6: Consumer choice model\n",
    "\n",
    "The sequence of tasks below should be performed in order in this\n",
    "notebook. Feel free to add code and markdown cells, but do not change\n",
    "cells that contain the assignment tasks.\n",
    "If the task offers some degree of interpretation (so, don’t tell you what\n",
    "to do exactly), you are free to interpret it in the way you see fit\n",
    "best. But remember to explain why you make such and such choice in your answer.\n",
    "\n",
    "The grade for the midterm assignment is based on both the code\n",
    "correctness and code style. The former relates to whether the code\n",
    "adequately represents the economic model under consideration, and the\n",
    "latter has to do with how well the code is modularized and organized,\n",
    "whether appropriate syntax is used, and whether the code is well\n",
    "documented. [PEP 8](https://www.python.org/dev/peps/pep-0008/)\n",
    "standard is a good reference for coding style, but will not reduce the\n",
    "grade."
   ]
  },
  {
   "cell_type": "markdown",
   "metadata": {},
   "source": [
    "## Modeling consumer choice\n",
    "\n",
    "In this assignment you consider a classic consumer choice setup given by\n",
    "the utility function and budget constraint, and numerically derive the\n",
    "demand function.\n",
    "\n",
    "Reference: [Hal Varian “Microeconomic analysis”, 3 ed. 1992, Chapter 7, 8](https://books.google.com.au/books/about/Microeconomic_Analysis.html?id=m20iQAAACAAJ&redir_esc=y)"
   ]
  },
  {
   "cell_type": "markdown",
   "metadata": {},
   "source": [
    "### Task 1. Design and implement a Python class to represent the model\n",
    "\n",
    "- Use constant elasticity of substitution (CES) utility function to\n",
    "  represent preferences over two goods  \n",
    "\n",
    "\n",
    "$$\n",
    "u(x,y) = \\Big( a_1 x^{\\frac{s-1}{s}} + a_2 y^{\\frac{s-1}{s}} \\Big)^{\\frac{s}{s-1}}\n",
    "$$\n",
    "\n",
    "- Allow prices of the goods be $ p_1 $ and $ p_2 $, and budget\n",
    "  constraint $ B = x p_1 + y p_2 $.  \n",
    "- Design the attributes of the class and implement init and repr\n",
    "  methods. Implement other methods according to your design.  \n",
    "- Write a solver for the constraint consumer choice problem as a maximization\n",
    "  problem in one variable, assuming that no money are wasted.  Use self-implemented\n",
    "  Newton-Raphson method to solve first order conditions of the maximization problem.\n",
    "  Implement all the necessary derivative functions as methods of the class.  \n",
    "\n",
    "\n",
    "Make sure that the derivatives and second derivatives are\n",
    "working correctly by writing a test that compares numerical derivatives to the analytical ones.\n",
    "Use the code below written to check a derivative of an arbitrary function,\n",
    "and write similar code for all other derivatives."
   ]
  },
  {
   "cell_type": "code",
   "execution_count": null,
   "metadata": {
    "hide-output": false
   },
   "outputs": [],
   "source": [
    "import @@@\n",
    "\n",
    "class consumer_choice():\n",
    "\n",
    "    def __init__(self, p1, p2, budget, a1=0.5, a2=0.5, s=0.5):\n",
    "        '''Consumer choice model using CES utility.'''\n",
    "        @@@\n",
    "\n",
    "    def __repr__(self):\n",
    "        '''String representation of the object'''\n",
    "        @@@\n",
    "\n",
    "    def ufun(self, x, y):\n",
    "        '''CES utility function'''\n",
    "        @@@\n",
    "\n",
    "    def foc(self,x):\n",
    "        '''First order condition for utility maximization'''\n",
    "        @@@\n",
    "\n",
    "    def dfoc(self,x):\n",
    "        '''Derivative of the first order condition for utility maximization'''\n",
    "        @@@\n",
    "\n",
    "    def solve(self, tol=1e-12, maxiter=100, callback=None):\n",
    "        '''Newton method to solve for maximum utility\n",
    "           Callback function arguments (iter,x,x1,err)\n",
    "        '''\n",
    "        @@@"
   ]
  },
  {
   "cell_type": "markdown",
   "metadata": {},
   "source": [
    "It is always worth checking the code of the derivative when using Newton method.\n",
    "Modify the test below to check the derivative of the optimality condition."
   ]
  },
  {
   "cell_type": "code",
   "execution_count": null,
   "metadata": {
    "hide-output": false
   },
   "outputs": [],
   "source": [
    "import unittest\n",
    "from scipy import optimize\n",
    "\n",
    "func = lambda x: x**5 + 10\n",
    "grad = lambda x: 5*x**4\n",
    "\n",
    "class testsDerivatives(unittest.TestCase):\n",
    "    \"\"\"Tests for the bisection function\"\"\"\n",
    "\n",
    "    def test_derivative(self):\n",
    "        '''test for derivative grad() of function func() over interval (1e-4,100)'''\n",
    "        grid = np.linspace(1,100,11)\n",
    "        for x in grid:\n",
    "            self.assertTrue(optimize.check_grad(func,grad,np.array([x])) < 1e-5)\n",
    "\n",
    "    # Write your code here\n",
    "\n",
    "# run the tests\n",
    "unittest.main(argv=['first-arg-is-ignored'], exit=False)"
   ]
  },
  {
   "cell_type": "markdown",
   "metadata": {},
   "source": [
    "### Task 2. Write a simple function to make contour plots\n",
    "\n",
    "It should make plots on the $ q_1 $ - $ q_2 $ plane. Use the starter code below\n",
    "and feel free to reuse the code from part 23 of the course."
   ]
  },
  {
   "cell_type": "code",
   "execution_count": null,
   "metadata": {
    "hide-output": false
   },
   "outputs": [],
   "source": [
    "import @@@\n",
    "\n",
    "def contour_plot(fun,xlim=(0,100),ylim=(0,100),ngrid=500,levels=20,title=None):\n",
    "    '''Function to plot level curves of the supplied fun function of two variables'''\n",
    "    # create grids for x and y\n",
    "    @@@\n",
    "    # combine one-dimensional grids into mesh (two-dimensional grid)\n",
    "    X,Y = np.meshgrid(xx,yy)\n",
    "    # compute the function\n",
    "    @@@\n",
    "    # create levels if asked for number (otherwise pass through)\n",
    "    if isinstance(levels, int):\n",
    "        levels = np.linspace(Z.min(),Z.max(),levels)\n",
    "    # make plot using contour()\n",
    "    @@@\n",
    "    if title:\n",
    "        plt.title(title)"
   ]
  },
  {
   "cell_type": "markdown",
   "metadata": {},
   "source": [
    "Test: you should see a nice picture"
   ]
  },
  {
   "cell_type": "code",
   "execution_count": null,
   "metadata": {
    "hide-output": false
   },
   "outputs": [],
   "source": [
    "F = lambda x, y: 2.575 - 2*np.cos(x)*np.cos(y+np.pi) - 0.575*np.cos(1.25*np.pi - 2*x)\n",
    "contour_plot(F, xlim=(0,9), ylim=(0,9), title='test', levels=[1,2,3,4,5])"
   ]
  },
  {
   "cell_type": "markdown",
   "metadata": {},
   "source": [
    "### Task 3. Add plotting functionality to the model\n",
    "\n",
    "Make the following plotting functions for the class. To make it possible to overlay different\n",
    "plots, make sure that plotting methods just add plotted lines to the existing axes, and do not\n",
    "use plt.show() inside any of the functions.\n",
    "\n",
    "- Make a *plot_preferences* function which would take the model class as input and\n",
    "  make a graph to illustrate the preferences. Call the contour_plot() function written\n",
    "  in Task 2.  \n",
    "- Make a *plot_budget* function for the class to illustrate the budget of\n",
    "  the consumer as a single line in the product space.  \n",
    "- Finally, make *plot_solution* function to illustrate the optimal choice\n",
    "  with a budget line and the touching indifference curve.  Mark their intersection point\n",
    "  with a red dot.  "
   ]
  },
  {
   "cell_type": "code",
   "execution_count": null,
   "metadata": {
    "hide-output": false
   },
   "outputs": [],
   "source": [
    "# write your code here"
   ]
  },
  {
   "cell_type": "markdown",
   "metadata": {},
   "source": [
    "### Task 4. Simple analysis\n",
    "\n",
    "By drawing several diagrams using your code, illustrate how optimal consumer choice changes with the parameters.\n",
    "\n",
    "For each of the sets of parameters listed in the table below\n",
    "\n",
    "- Make a visualization of the utility function  \n",
    "- Make a diagram of the solution  \n",
    "- Give economic intuition for the observed differences.  \n",
    "\n",
    "\n",
    "|Set|$ p_1 $|$ p_2 $|$ B $|$ a_1 $|$ a_2 $|$ s $|\n",
    "|:--:|:-----------:|:-----------:|:---------:|:-----------:|:-----------:|:---------:|\n",
    "|A|1.0|1.0|10.0|0.9|0.1|0.5|\n",
    "|B|1.0|1.0|10.0|0.9|0.1|0.05|\n",
    "|C|1.0|1.0|10.0|0.9|0.1|1.2|\n",
    "|D|1.0|3.0|10.0|0.9|0.1|0.5|\n",
    "|E|1.0|3.0|20.0|0.9|0.1|0.5|"
   ]
  },
  {
   "cell_type": "code",
   "execution_count": null,
   "metadata": {
    "hide-output": false
   },
   "outputs": [],
   "source": [
    "# write your code here"
   ]
  },
  {
   "cell_type": "markdown",
   "metadata": {},
   "source": [
    "### Task 5. Plotting demand\n",
    "\n",
    "Code up a function which takes a model object as input argument, and creates a series of lines to illustrate\n",
    "how optimal consumer choice changes with changing prices to give rise to demand curve."
   ]
  },
  {
   "cell_type": "code",
   "execution_count": null,
   "metadata": {
    "hide-output": false
   },
   "outputs": [],
   "source": [
    "# write your code here"
   ]
  },
  {
   "cell_type": "markdown",
   "metadata": {},
   "source": [
    "### Task 6. [Optional] Giffen good\n",
    "\n",
    "Modify the fundamentals of the model to try to replicate the Giffen paradox: obtain the\n",
    "demand curve that bends backward, in other words represents the product that people consume\n",
    "more of as the price rises and vice versa."
   ]
  }
 ],
 "metadata": {
  "date": 1631052816.9726038,
  "filename": "midterm_topic6.rst",
  "kernelspec": {
   "display_name": "Python 3",
   "language": "python",
   "name": "python3"
  },
  "language_info": {
   "codemirror_mode": {
    "name": "ipython",
    "version": 3
   },
   "file_extension": ".py",
   "mimetype": "text/x-python",
   "name": "python",
   "nbconvert_exporter": "python",
   "pygments_lexer": "ipython3",
   "version": "3.8.8"
  },
  "title": "Midterm Assignment, topic 6: Consumer choice model"
 },
 "nbformat": 4,
 "nbformat_minor": 4
}
